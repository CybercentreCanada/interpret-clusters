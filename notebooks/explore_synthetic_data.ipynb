{
 "cells": [
  {
   "cell_type": "code",
   "execution_count": null,
   "id": "836bc99b",
   "metadata": {},
   "outputs": [],
   "source": [
    "import umap\n",
    "import umap.plot\n",
    "import hdbscan\n",
    "import pandas as pd\n",
    "import numpy as np\n",
    "\n",
    "from bokeh.plotting import show as show_bokeh\n",
    "umap.plot.output_notebook()"
   ]
  },
  {
   "cell_type": "code",
   "execution_count": null,
   "id": "60da430e",
   "metadata": {},
   "outputs": [],
   "source": [
    "fake_data = pd.read_csv('data/synthetic_data.csv')"
   ]
  },
  {
   "cell_type": "code",
   "execution_count": null,
   "id": "91463466",
   "metadata": {},
   "outputs": [],
   "source": [
    "# Get the non zero values for each row\n",
    "column_names = np.array(fake_data.columns)\n",
    "non_zero_values = []\n",
    "\n",
    "for row_tuple in fake_data.iterrows():\n",
    "    row = row_tuple[1]\n",
    "    non_zero_index = row.to_numpy().nonzero()\n",
    "    values = ' | '.join(column_names[non_zero_index])\n",
    "    non_zero_values.append(values)"
   ]
  },
  {
   "cell_type": "code",
   "execution_count": null,
   "id": "ab6cbcbe",
   "metadata": {},
   "outputs": [],
   "source": [
    "%%time\n",
    "embedding = umap.UMAP(metric='cosine').fit(fake_data)"
   ]
  },
  {
   "cell_type": "code",
   "execution_count": null,
   "id": "6df149a7",
   "metadata": {},
   "outputs": [],
   "source": [
    "clusterer = hdbscan.HDBSCAN(min_cluster_size=20)\n",
    "clusterer.fit(embedding.embedding_)"
   ]
  },
  {
   "cell_type": "code",
   "execution_count": null,
   "id": "f95829b8",
   "metadata": {},
   "outputs": [],
   "source": [
    "hover_df = pd.DataFrame(non_zero_values, columns=['supported_teams'])\n",
    "hover_df['cluster'] = clusterer.labels_"
   ]
  },
  {
   "cell_type": "code",
   "execution_count": null,
   "id": "d2dda788",
   "metadata": {},
   "outputs": [],
   "source": [
    "hover_df['cluster'].value_counts()"
   ]
  },
  {
   "cell_type": "code",
   "execution_count": null,
   "id": "9bebd5c3",
   "metadata": {},
   "outputs": [],
   "source": [
    "f = umap.plot.interactive(embedding, labels=hover_df['cluster'], hover_data=hover_df)\n",
    "show_bokeh(f)"
   ]
  },
  {
   "cell_type": "markdown",
   "id": "3adb4d2e",
   "metadata": {},
   "source": [
    "### Try using interpret-clusters"
   ]
  },
  {
   "cell_type": "code",
   "execution_count": null,
   "id": "65a5abac",
   "metadata": {},
   "outputs": [],
   "source": [
    "from interpret_clusters import ClusterExplainer\n",
    "from interpret import show"
   ]
  },
  {
   "cell_type": "code",
   "execution_count": null,
   "id": "4c65e469",
   "metadata": {},
   "outputs": [],
   "source": [
    "features = fake_data.values\n",
    "cluster_labels = clusterer.labels_\n",
    "feature_names = list(fake_data.columns)"
   ]
  },
  {
   "cell_type": "markdown",
   "id": "1fb8ca8a",
   "metadata": {},
   "source": [
    "### Use the default model which is an Explainable Boosting Machine"
   ]
  },
  {
   "cell_type": "code",
   "execution_count": null,
   "id": "734fcc03",
   "metadata": {},
   "outputs": [],
   "source": [
    "ce_ebm = ClusterExplainer(features=features, cluster_labels=cluster_labels,\n",
    "                  feature_names=feature_names, verbose=True)"
   ]
  },
  {
   "cell_type": "markdown",
   "id": "308c3113",
   "metadata": {},
   "source": [
    "##### Look at the local explanations for a specific cluster"
   ]
  },
  {
   "cell_type": "code",
   "execution_count": null,
   "id": "baed7def",
   "metadata": {},
   "outputs": [],
   "source": [
    "ebm_local = ce_ebm.cluster_local_explanations(0)\n",
    "show(ebm_local)"
   ]
  },
  {
   "cell_type": "markdown",
   "id": "306c2747",
   "metadata": {},
   "source": [
    "##### Look at the global explanations for a specific cluster"
   ]
  },
  {
   "cell_type": "code",
   "execution_count": null,
   "id": "cd8e9f0d",
   "metadata": {},
   "outputs": [],
   "source": [
    "ebm_global = ce_ebm.cluster_global_explanations(0)\n",
    "show(ebm_global)"
   ]
  },
  {
   "cell_type": "markdown",
   "id": "a783219c",
   "metadata": {},
   "source": [
    "##### Train a model for each cluster and calculate all the local explanations"
   ]
  },
  {
   "cell_type": "code",
   "execution_count": null,
   "id": "f2521c32",
   "metadata": {},
   "outputs": [],
   "source": [
    "%%time\n",
    "ce_ebm.calculate_all_local_explanations()"
   ]
  },
  {
   "cell_type": "code",
   "execution_count": null,
   "id": "3a3629cd",
   "metadata": {},
   "outputs": [],
   "source": [
    "# Look at the explanations for a particular cluster\n",
    "show(ce_ebm.cluster_local_explanations(0))"
   ]
  },
  {
   "cell_type": "markdown",
   "id": "b13f91ca",
   "metadata": {},
   "source": [
    "##### Train a model for each cluster and calculate all the global explanations"
   ]
  },
  {
   "cell_type": "code",
   "execution_count": null,
   "id": "522ba912",
   "metadata": {},
   "outputs": [],
   "source": [
    "%%time\n",
    "ce_ebm.calculate_all_global_explanations()"
   ]
  },
  {
   "cell_type": "code",
   "execution_count": null,
   "id": "70805338",
   "metadata": {},
   "outputs": [],
   "source": [
    "# Look at the explanations for a particular cluster\n",
    "show(ce_ebm.cluster_global_explanations(1))"
   ]
  },
  {
   "cell_type": "markdown",
   "id": "d1983b82",
   "metadata": {},
   "source": [
    "### Try using a logistic_regression model"
   ]
  },
  {
   "cell_type": "code",
   "execution_count": null,
   "id": "3a707d32",
   "metadata": {},
   "outputs": [],
   "source": [
    "ce_lr = ClusterExplainer(features=features, cluster_labels=cluster_labels,\n",
    "                  feature_names=feature_names, \n",
    "                  classifier='logistic_regression')"
   ]
  },
  {
   "cell_type": "code",
   "execution_count": null,
   "id": "f6b2c2ec",
   "metadata": {},
   "outputs": [],
   "source": [
    "show(ce_lr.cluster_local_explanations(0))"
   ]
  },
  {
   "cell_type": "markdown",
   "id": "df2b2af5",
   "metadata": {},
   "source": [
    "### Pass in a custom classifer"
   ]
  },
  {
   "cell_type": "code",
   "execution_count": null,
   "id": "5da55208",
   "metadata": {},
   "outputs": [],
   "source": [
    "from interpret.glassbox import LogisticRegression"
   ]
  },
  {
   "cell_type": "code",
   "execution_count": null,
   "id": "6fd3e2e0",
   "metadata": {},
   "outputs": [],
   "source": [
    "lr = LogisticRegression(random_state=42, feature_names=feature_names, penalty='l1', solver='liblinear')\n",
    "\n",
    "ce_custom = ClusterExplainer(features=features, cluster_labels=cluster_labels,\n",
    "                  feature_names=feature_names, \n",
    "                  classifier=lr)"
   ]
  },
  {
   "cell_type": "code",
   "execution_count": null,
   "id": "4fa87ed6",
   "metadata": {},
   "outputs": [],
   "source": [
    "show(ce_custom.cluster_global_explanations(1))"
   ]
  },
  {
   "cell_type": "code",
   "execution_count": null,
   "id": "232755e3",
   "metadata": {},
   "outputs": [],
   "source": []
  },
  {
   "cell_type": "code",
   "execution_count": null,
   "id": "f1e0334c",
   "metadata": {},
   "outputs": [],
   "source": []
  }
 ],
 "metadata": {
  "kernelspec": {
   "display_name": "Python 3",
   "language": "python",
   "name": "python3"
  },
  "language_info": {
   "codemirror_mode": {
    "name": "ipython",
    "version": 3
   },
   "file_extension": ".py",
   "mimetype": "text/x-python",
   "name": "python",
   "nbconvert_exporter": "python",
   "pygments_lexer": "ipython3",
   "version": "3.8.8"
  }
 },
 "nbformat": 4,
 "nbformat_minor": 5
}
